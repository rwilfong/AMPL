{
 "cells": [
  {
   "cell_type": "code",
   "execution_count": 1,
   "metadata": {},
   "outputs": [
    {
     "name": "stderr",
     "output_type": "stream",
     "text": [
      "Skipped loading some Jax models, missing a dependency. No module named 'haiku'\n",
      "/opt/anaconda3/envs/atom-dev/lib/python3.9/site-packages/tqdm/auto.py:21: TqdmWarning: IProgress not found. Please update jupyter and ipywidgets. See https://ipywidgets.readthedocs.io/en/stable/user_install.html\n",
      "  from .autonotebook import tqdm as notebook_tqdm\n"
     ]
    }
   ],
   "source": [
    "from atomsci.ddm.pipeline import parameter_parser as parse\n",
    "from atomsci.ddm.pipeline import model_pipeline as mp"
   ]
  },
  {
   "cell_type": "code",
   "execution_count": 2,
   "metadata": {},
   "outputs": [],
   "source": [
    "# create an initial split \n",
    "dataset='/Users/rwilfong/Downloads/2024_LLNL/fork_ampl/AMPL/atomsci/ddm/test/test_datasets/aurka_chembl_base_smiles_union.csv'\n",
    "smiles_col='base_rdkit_smiles'\n",
    "id_col = 'compound_id'\n",
    "response_cols='pIC50'\n",
    "result_dir = '/Users/rwilfong/Downloads/2024_LLNL/fork_ampl/AMPL/atomsci/ddm/test/test_datasets/'\n",
    "\n",
    "params = {\n",
    "    \"verbose\": \"True\",\n",
    "    \"datastore\": \"False\",\n",
    "    \"save_results\": \"False\",\n",
    "    \"model_type\": \"RF\",\n",
    "    \"prediction_type\": \"regression\",\n",
    "    \"split_strategy\": \"train_valid_test\", \n",
    "    \"splitter\": \"random\",\n",
    "    \"previously_split\": \"False\",\n",
    "    \"split_test_frac\": \"0.15\",\n",
    "    \"split_valid_frac\": \"0.15\",\n",
    "    \"transformers\": \"True\", \n",
    "    \"dataset_key\": dataset,\n",
    "    \"result_dir\": result_dir,\n",
    "    \"smiles_col\": smiles_col,\n",
    "    \"id_col\": id_col, \n",
    "    \"response_cols\": response_cols,\n",
    "    \"featurizer\": \"ecfp\"\n",
    "}"
   ]
  },
  {
   "cell_type": "code",
   "execution_count": 6,
   "metadata": {},
   "outputs": [],
   "source": [
    "pparams = parse.wrapper(params)"
   ]
  },
  {
   "cell_type": "code",
   "execution_count": 8,
   "metadata": {},
   "outputs": [],
   "source": [
    "MP = mp.ModelPipeline(pparams)"
   ]
  },
  {
   "cell_type": "code",
   "execution_count": 10,
   "metadata": {},
   "outputs": [],
   "source": [
    "split_uuid = MP.split_dataset()\n"
   ]
  },
  {
   "cell_type": "code",
   "execution_count": 11,
   "metadata": {},
   "outputs": [
    {
     "data": {
      "text/plain": [
       "'afea6909-9760-49cc-b316-b0e457a36c0c'"
      ]
     },
     "execution_count": 11,
     "metadata": {},
     "output_type": "execute_result"
    }
   ],
   "source": [
    "split_uuid"
   ]
  },
  {
   "cell_type": "code",
   "execution_count": 3,
   "metadata": {},
   "outputs": [],
   "source": [
    "# train a quick model and check metadata \n",
    "import pandas as pd\n",
    "pd.set_option('display.max_columns', None)\n",
    "\n",
    "dataset='/Users/rwilfong/Downloads/2024_LLNL/fork_ampl/AMPL/atomsci/ddm/test/test_datasets/aurka_chembl_base_smiles_union.csv'\n",
    "smiles_col='base_rdkit_smiles'\n",
    "id_col = 'compound_id'\n",
    "response_cols='pIC50'\n",
    "result_dir = '/Users/rwilfong/Downloads/2024_LLNL/fork_ampl/AMPL/atomsci/ddm/test/rose_dev/seed_test/'\n",
    "split_uuid = \"f6339121-3463-49a7-9a1d-484830fe1e62\"\n",
    "\n",
    "params = {\n",
    "    \"verbose\": \"True\",\n",
    "    \"datastore\": \"False\",\n",
    "    \"save_results\": \"False\",\n",
    "    \"model_type\": \"RF\",\n",
    "    \"prediction_type\": \"regression\",\n",
    "    \"split_strategy\": \"train_valid_test\", \n",
    "    \"splitter\": \"random\",\n",
    "    \"previously_split\": \"True\",\n",
    "    \"split_test_frac\": \"0.15\",\n",
    "    \"split_valid_frac\": \"0.15\",\n",
    "    \"transformers\": \"True\", \n",
    "    \"dataset_key\": dataset,\n",
    "    \"result_dir\": result_dir,\n",
    "    \"smiles_col\": smiles_col,\n",
    "    \"id_col\": id_col, \n",
    "    \"response_cols\": response_cols,\n",
    "    \"featurizer\": \"ecfp\",\n",
    "    \"split_uuid\": split_uuid\n",
    "}"
   ]
  },
  {
   "cell_type": "code",
   "execution_count": 4,
   "metadata": {},
   "outputs": [
    {
     "name": "stderr",
     "output_type": "stream",
     "text": [
      "WARNING:ATOM:Previous dataset split restored\n"
     ]
    }
   ],
   "source": [
    "ampl_param = parse.wrapper(params)\n",
    "pl = mp.ModelPipeline(ampl_param)\n",
    "pl.train_model()"
   ]
  },
  {
   "cell_type": "code",
   "execution_count": 8,
   "metadata": {},
   "outputs": [],
   "source": [
    "# try to repeat the model\n",
    "\n",
    "dataset='/Users/rwilfong/Downloads/2024_LLNL/fork_ampl/AMPL/atomsci/ddm/test/test_datasets/aurka_chembl_base_smiles_union.csv'\n",
    "smiles_col='base_rdkit_smiles'\n",
    "id_col = 'compound_id'\n",
    "response_cols='pIC50'\n",
    "result_dir = '/Users/rwilfong/Downloads/2024_LLNL/fork_ampl/AMPL/atomsci/ddm/test/rose_dev/seed_test/'\n",
    "split_uuid = \"f6339121-3463-49a7-9a1d-484830fe1e62\"\n",
    "\n",
    "params = {\n",
    "    \"verbose\": \"True\",\n",
    "    \"datastore\": \"False\",\n",
    "    \"save_results\": \"False\",\n",
    "    \"model_type\": \"RF\",\n",
    "    \"prediction_type\": \"regression\",\n",
    "    \"split_strategy\": \"train_valid_test\", \n",
    "    \"splitter\": \"random\",\n",
    "    \"previously_split\": \"True\",\n",
    "    \"split_test_frac\": \"0.15\",\n",
    "    \"split_valid_frac\": \"0.15\",\n",
    "    \"transformers\": \"True\", \n",
    "    \"dataset_key\": dataset,\n",
    "    \"result_dir\": result_dir,\n",
    "    \"smiles_col\": smiles_col,\n",
    "    \"id_col\": id_col, \n",
    "    \"response_cols\": response_cols,\n",
    "    \"featurizer\": \"ecfp\",\n",
    "    \"split_uuid\": split_uuid,\n",
    "    \"seed\": \"3037189085\"\n",
    "}"
   ]
  },
  {
   "cell_type": "code",
   "execution_count": 10,
   "metadata": {},
   "outputs": [
    {
     "name": "stderr",
     "output_type": "stream",
     "text": [
      "WARNING:ATOM:Previous dataset split restored\n"
     ]
    }
   ],
   "source": [
    "ampl_param = parse.wrapper(params)\n",
    "pl = mp.ModelPipeline(ampl_param)\n",
    "pl.train_model()"
   ]
  },
  {
   "cell_type": "code",
   "execution_count": 2,
   "metadata": {},
   "outputs": [],
   "source": [
    "# try a new set and see if you get the same seed \n",
    "dataset='/Users/rwilfong/Downloads/2024_LLNL/fork_ampl/AMPL/atomsci/ddm/test/test_datasets/aurka_chembl_base_smiles_union.csv'\n",
    "smiles_col='base_rdkit_smiles'\n",
    "id_col = 'compound_id'\n",
    "response_cols='pIC50'\n",
    "result_dir = '/Users/rwilfong/Downloads/2024_LLNL/fork_ampl/AMPL/atomsci/ddm/test/rose_dev/seed_test/'\n",
    "split_uuid = \"35c07a7d-5844-4c0c-ab08-738c8ec73829\"\n",
    "\n",
    "params = {\n",
    "    \"verbose\": \"True\",\n",
    "    \"datastore\": \"False\",\n",
    "    \"save_results\": \"False\",\n",
    "    \"model_type\": \"NN\",\n",
    "    \"prediction_type\": \"regression\",\n",
    "    \"split_strategy\": \"train_valid_test\", \n",
    "    \"splitter\": \"random\",\n",
    "    \"previously_split\": \"True\",\n",
    "    \"split_test_frac\": \"0.15\",\n",
    "    \"split_valid_frac\": \"0.15\",\n",
    "    \"transformers\": \"True\", \n",
    "    \"dataset_key\": dataset,\n",
    "    \"result_dir\": result_dir,\n",
    "    \"smiles_col\": smiles_col,\n",
    "    \"id_col\": id_col, \n",
    "    \"response_cols\": response_cols,\n",
    "    \"featurizer\": \"computed_descriptors\",\n",
    "    \"descriptor_type\": \"mordred_filtered\",\n",
    "    \"split_uuid\": split_uuid\n",
    "}"
   ]
  },
  {
   "cell_type": "code",
   "execution_count": 3,
   "metadata": {},
   "outputs": [
    {
     "ename": "AttributeError",
     "evalue": "'RandomStateGenerator' object has no attribute 'seed'",
     "output_type": "error",
     "traceback": [
      "\u001b[0;31m---------------------------------------------------------------------------\u001b[0m",
      "\u001b[0;31mAttributeError\u001b[0m                            Traceback (most recent call last)",
      "Cell \u001b[0;32mIn[3], line 2\u001b[0m\n\u001b[1;32m      1\u001b[0m ampl_param \u001b[38;5;241m=\u001b[39m parse\u001b[38;5;241m.\u001b[39mwrapper(params)\n\u001b[0;32m----> 2\u001b[0m pl \u001b[38;5;241m=\u001b[39m \u001b[43mmp\u001b[49m\u001b[38;5;241;43m.\u001b[39;49m\u001b[43mModelPipeline\u001b[49m\u001b[43m(\u001b[49m\u001b[43mampl_param\u001b[49m\u001b[43m)\u001b[49m\n\u001b[1;32m      3\u001b[0m pl\u001b[38;5;241m.\u001b[39mtrain_model()\n",
      "File \u001b[0;32m~/Downloads/2024_LLNL/fork_ampl/AMPL/atomsci/ddm/pipeline/model_pipeline.py:198\u001b[0m, in \u001b[0;36mModelPipeline.__init__\u001b[0;34m(self, params, ds_client, mlmt_client)\u001b[0m\n\u001b[1;32m    193\u001b[0m \u001b[38;5;28mself\u001b[39m\u001b[38;5;241m.\u001b[39mstart_time \u001b[38;5;241m=\u001b[39m time\u001b[38;5;241m.\u001b[39mtime()\n\u001b[1;32m    195\u001b[0m \u001b[38;5;66;03m##### SEED METHOD ######\u001b[39;00m\n\u001b[1;32m    196\u001b[0m \u001b[38;5;66;03m#if params.seed is not None:\u001b[39;00m\n\u001b[1;32m    197\u001b[0m \u001b[38;5;66;03m#    rs.set_seed(self.params.seed)\u001b[39;00m\n\u001b[0;32m--> 198\u001b[0m \u001b[38;5;28mself\u001b[39m\u001b[38;5;241m.\u001b[39mrandom_gen \u001b[38;5;241m=\u001b[39m \u001b[43mrs\u001b[49m\u001b[38;5;241;43m.\u001b[39;49m\u001b[43mRandomStateGenerator\u001b[49m\u001b[43m(\u001b[49m\u001b[43mparams\u001b[49m\u001b[43m)\u001b[49m\n\u001b[1;32m    199\u001b[0m \u001b[38;5;28mself\u001b[39m\u001b[38;5;241m.\u001b[39mrandom_state \u001b[38;5;241m=\u001b[39m \u001b[38;5;28mself\u001b[39m\u001b[38;5;241m.\u001b[39mrandom_gen\u001b[38;5;241m.\u001b[39mget_random_state()\n\u001b[1;32m    201\u001b[0m \u001b[38;5;66;03m# Default dataset_name parameter from dataset_key\u001b[39;00m\n",
      "File \u001b[0;32m~/Downloads/2024_LLNL/fork_ampl/AMPL/atomsci/ddm/pipeline/random_seed.py:30\u001b[0m, in \u001b[0;36mRandomStateGenerator.__init__\u001b[0;34m(self, params, seed)\u001b[0m\n\u001b[1;32m     28\u001b[0m \u001b[38;5;28;01melse\u001b[39;00m:\n\u001b[1;32m     29\u001b[0m     \u001b[38;5;28mself\u001b[39m\u001b[38;5;241m.\u001b[39mparams\u001b[38;5;241m.\u001b[39mseed \u001b[38;5;241m=\u001b[39m generate_seed()\n\u001b[0;32m---> 30\u001b[0m \u001b[38;5;28mself\u001b[39m\u001b[38;5;241m.\u001b[39mrandom_state \u001b[38;5;241m=\u001b[39m np\u001b[38;5;241m.\u001b[39mrandom\u001b[38;5;241m.\u001b[39mdefault_rng(\u001b[38;5;28;43mself\u001b[39;49m\u001b[38;5;241;43m.\u001b[39;49m\u001b[43mseed\u001b[49m)\n",
      "\u001b[0;31mAttributeError\u001b[0m: 'RandomStateGenerator' object has no attribute 'seed'"
     ]
    }
   ],
   "source": [
    "ampl_param = parse.wrapper(params)\n",
    "pl = mp.ModelPipeline(ampl_param)\n",
    "pl.train_model()"
   ]
  }
 ],
 "metadata": {
  "kernelspec": {
   "display_name": "atom-dev",
   "language": "python",
   "name": "atom-dev"
  },
  "language_info": {
   "codemirror_mode": {
    "name": "ipython",
    "version": 3
   },
   "file_extension": ".py",
   "mimetype": "text/x-python",
   "name": "python",
   "nbconvert_exporter": "python",
   "pygments_lexer": "ipython3",
   "version": "3.9.19"
  }
 },
 "nbformat": 4,
 "nbformat_minor": 4
}
