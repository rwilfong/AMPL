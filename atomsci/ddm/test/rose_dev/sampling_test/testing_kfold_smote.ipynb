{
 "cells": [
  {
   "cell_type": "markdown",
   "id": "61f6bc29-ef14-470f-bc2b-0b5faafed33c",
   "metadata": {},
   "source": [
    "# Apply Sampling to K-Fold CV Splitting"
   ]
  },
  {
   "cell_type": "code",
   "execution_count": 1,
   "id": "3153264b-bacb-4260-890f-06e2603229f0",
   "metadata": {
    "tags": []
   },
   "outputs": [
    {
     "name": "stderr",
     "output_type": "stream",
     "text": [
      "2024-07-15 11:47:55.346461: I tensorflow/tsl/cuda/cudart_stub.cc:28] Could not find cuda drivers on your machine, GPU will not be used.\n",
      "2024-07-15 11:47:56.968198: E tensorflow/compiler/xla/stream_executor/cuda/cuda_dnn.cc:9342] Unable to register cuDNN factory: Attempting to register factory for plugin cuDNN when one has already been registered\n",
      "2024-07-15 11:47:56.968244: E tensorflow/compiler/xla/stream_executor/cuda/cuda_fft.cc:609] Unable to register cuFFT factory: Attempting to register factory for plugin cuFFT when one has already been registered\n",
      "2024-07-15 11:47:56.975058: E tensorflow/compiler/xla/stream_executor/cuda/cuda_blas.cc:1518] Unable to register cuBLAS factory: Attempting to register factory for plugin cuBLAS when one has already been registered\n",
      "2024-07-15 11:47:57.939835: I tensorflow/tsl/cuda/cudart_stub.cc:28] Could not find cuda drivers on your machine, GPU will not be used.\n",
      "2024-07-15 11:47:57.954139: I tensorflow/core/platform/cpu_feature_guard.cc:182] This TensorFlow binary is optimized to use available CPU instructions in performance-critical operations.\n",
      "To enable the following instructions: AVX2 FMA, in other operations, rebuild TensorFlow with the appropriate compiler flags.\n",
      "2024-07-15 11:48:03.812134: W tensorflow/compiler/tf2tensorrt/utils/py_utils.cc:38] TF-TRT Warning: Could not find TensorRT\n",
      "Skipped loading some Jax models, missing a dependency. No module named 'haiku'\n",
      "/usr/WS2/wilfong2/my_ampl/atom-dev/lib/python3.9/site-packages/tqdm/auto.py:21: TqdmWarning: IProgress not found. Please update jupyter and ipywidgets. See https://ipywidgets.readthedocs.io/en/stable/user_install.html\n",
      "  from .autonotebook import tqdm as notebook_tqdm\n"
     ]
    }
   ],
   "source": [
    "import os\n",
    "from sklearn.datasets import make_classification\n",
    "from sklearn.model_selection import train_test_split\n",
    "\n",
    "import numpy as np\n",
    "import pandas as pd\n",
    "from atomsci.ddm.pipeline import model_pipeline as mp\n",
    "from atomsci.ddm.pipeline import model_datasets as md\n",
    "from atomsci.ddm.pipeline import parameter_parser as parse"
   ]
  },
  {
   "cell_type": "markdown",
   "id": "4706fb85-280c-4417-8e88-b368c780b9a7",
   "metadata": {
    "tags": []
   },
   "source": [
    "### Creating Split Dataset"
   ]
  },
  {
   "cell_type": "code",
   "execution_count": 2,
   "id": "05faccf0-fac4-4909-bcf6-c36c162c19a8",
   "metadata": {
    "tags": []
   },
   "outputs": [],
   "source": [
    "df_key = \"/usr/WS2/wilfong2/my_ampl/AMPL/atomsci/ddm/test/test_datasets/aurka_chembl_base_smiles_union.csv\"\n",
    "odir=\"/usr/WS2/wilfong2/my_ampl/pl/AMPL/atomsci/ddm/test/test_datasets/\"\n",
    "\n",
    "params = {\n",
    "    \"dataset_key\": df_key,\n",
    "    \"response_cols\": 'active', \n",
    "    \"id_col\":\"compound_id\",\n",
    "    \"smiles_col\":\"base_rdkit_smiles\",\n",
    "    \"result_dir\":odir,\n",
    "\n",
    "    #splitting \n",
    "    \"split_only\":\"False\",\n",
    "    \"previously_split\":\"True\",\n",
    "    \"split_strategy\": 'k_fold_cv',   \n",
    "    \"splitter\":\"random\",\n",
    "    \"split_valid_frac\": \"0.15\",\n",
    "    \"split_test_frac\": \"0.15\",\n",
    "    \n",
    "    # featurization\n",
    "    \"featurizer\": \"ecfp\",\n",
    "    \"previously_featurized\":\"True\",\n",
    "    \n",
    "    #model params\n",
    "    \"model_type\":\"NN\",\n",
    "    \"prediction_type\":\"classification\",\n",
    "    \n",
    "    # misc\n",
    "    \"verbose\": \"True\"\n",
    "}"
   ]
  },
  {
   "cell_type": "code",
   "execution_count": 3,
   "id": "c7ef79d1-38b4-40a9-bd1a-e21d0e634a57",
   "metadata": {
    "tags": []
   },
   "outputs": [],
   "source": [
    "ampl_param = parse.wrapper(params)\n",
    "pl = mp.ModelPipeline(ampl_param)\n",
    "split_uuid = pl.split_dataset()"
   ]
  },
  {
   "cell_type": "code",
   "execution_count": 4,
   "id": "caa8d5f4-0c03-45a1-80f7-3cf370672e6a",
   "metadata": {
    "tags": []
   },
   "outputs": [
    {
     "data": {
      "text/plain": [
       "'115dc29d-4040-4724-b224-a91b9d004d1d'"
      ]
     },
     "execution_count": 4,
     "metadata": {},
     "output_type": "execute_result"
    }
   ],
   "source": [
    "split_uuid"
   ]
  },
  {
   "cell_type": "markdown",
   "id": "663944c4-3e97-4f18-9e49-ecec09375aa4",
   "metadata": {},
   "source": [
    "## Create a NN with SMOTE"
   ]
  },
  {
   "cell_type": "code",
   "execution_count": 2,
   "id": "30d77d0a-433f-4a8f-8f0a-3d8cff0a1c5e",
   "metadata": {
    "tags": []
   },
   "outputs": [],
   "source": [
    "df_key = \"/usr/WS2/wilfong2/my_ampl/AMPL/atomsci/ddm/test/test_datasets/aurka_chembl_base_smiles_union.csv\"\n",
    "odir=\"/usr/WS2/wilfong2/my_ampl/pl/AMPL/atomsci/ddm/test/test_datasets/\"\n",
    "split_uuid = '115dc29d-4040-4724-b224-a91b9d004d1d'\n",
    "\n",
    "params = {\n",
    "    \"dataset_key\": df_key,\n",
    "    \"response_cols\": 'active', \n",
    "    \"id_col\":\"compound_id\",\n",
    "    \"smiles_col\":\"base_rdkit_smiles\",\n",
    "    \"result_dir\":odir,\n",
    "\n",
    "    #splitting \n",
    "    \"split_only\":\"False\",\n",
    "    \"previously_split\":\"True\",\n",
    "    \"split_strategy\": 'k_fold_cv',  \n",
    "    \"split_uuid\": split_uuid,\n",
    "    \"splitter\":\"random\",\n",
    "    \"split_valid_frac\": \"0.15\",\n",
    "    \"split_test_frac\": \"0.15\",\n",
    "    \n",
    "    # featurization\n",
    "    \"featurizer\": \"ecfp\",\n",
    "    \"previously_featurized\":\"True\",\n",
    "    \n",
    "    # sampling \n",
    "    \"sampling_method\": \"SMOTE\",\n",
    "    \n",
    "    #model params\n",
    "    \"model_type\":\"NN\",\n",
    "    \"prediction_type\":\"classification\",\n",
    "    \n",
    "    # misc\n",
    "    \"verbose\": \"True\"\n",
    "}"
   ]
  },
  {
   "cell_type": "code",
   "execution_count": 3,
   "id": "c4b1540e-66d9-4a86-a529-dce435959d4b",
   "metadata": {
    "tags": []
   },
   "outputs": [
    {
     "name": "stderr",
     "output_type": "stream",
     "text": [
      "WARNING:ATOM:Previous dataset split restored\n"
     ]
    },
    {
     "name": "stdout",
     "output_type": "stream",
     "text": [
      "(sampling.py) the seed being passed into apply_sampling_method is: 217903704\n",
      "(sampling.py) the seed being passed into apply_sampling_method is: 217903704\n",
      "(sampling.py) the seed being passed into apply_sampling_method is: 217903704\n",
      "(sampling.py) the seed being passed into apply_sampling_method is: 217903704\n",
      "(sampling.py) the seed being passed into apply_sampling_method is: 217903704\n"
     ]
    },
    {
     "ename": "KeyError",
     "evalue": "'synthetic_1405'",
     "output_type": "error",
     "traceback": [
      "\u001b[0;31m---------------------------------------------------------------------------\u001b[0m",
      "\u001b[0;31mKeyError\u001b[0m                                  Traceback (most recent call last)",
      "Cell \u001b[0;32mIn[3], line 3\u001b[0m\n\u001b[1;32m      1\u001b[0m ampl_param \u001b[38;5;241m=\u001b[39m parse\u001b[38;5;241m.\u001b[39mwrapper(params)\n\u001b[1;32m      2\u001b[0m pl \u001b[38;5;241m=\u001b[39m mp\u001b[38;5;241m.\u001b[39mModelPipeline(ampl_param)\n\u001b[0;32m----> 3\u001b[0m \u001b[43mpl\u001b[49m\u001b[38;5;241;43m.\u001b[39;49m\u001b[43mtrain_model\u001b[49m\u001b[43m(\u001b[49m\u001b[43m)\u001b[49m\n",
      "File \u001b[0;32m/usr/WS2/wilfong2/my_ampl/AMPL/atomsci/ddm/pipeline/model_pipeline.py:632\u001b[0m, in \u001b[0;36mModelPipeline.train_model\u001b[0;34m(self, featurization, random_state, seed)\u001b[0m\n\u001b[1;32m    630\u001b[0m \u001b[38;5;28;01mif\u001b[39;00m \u001b[38;5;28mself\u001b[39m\u001b[38;5;241m.\u001b[39mparams\u001b[38;5;241m.\u001b[39msplit_only:\n\u001b[1;32m    631\u001b[0m     \u001b[38;5;28;01mreturn\u001b[39;00m\n\u001b[0;32m--> 632\u001b[0m \u001b[38;5;28;43mself\u001b[39;49m\u001b[38;5;241;43m.\u001b[39;49m\u001b[43mmodel_wrapper\u001b[49m\u001b[38;5;241;43m.\u001b[39;49m\u001b[43mtrain\u001b[49m\u001b[43m(\u001b[49m\u001b[38;5;28;43mself\u001b[39;49m\u001b[43m,\u001b[49m\u001b[43m \u001b[49m\u001b[43mrandom_state\u001b[49m\u001b[38;5;241;43m=\u001b[39;49m\u001b[38;5;28;43mself\u001b[39;49m\u001b[38;5;241;43m.\u001b[39;49m\u001b[43mrandom_state\u001b[49m\u001b[43m,\u001b[49m\u001b[43m \u001b[49m\u001b[43mseed\u001b[49m\u001b[38;5;241;43m=\u001b[39;49m\u001b[38;5;28;43mself\u001b[39;49m\u001b[38;5;241;43m.\u001b[39;49m\u001b[43mseed\u001b[49m\u001b[43m)\u001b[49m\n\u001b[1;32m    633\u001b[0m \u001b[38;5;66;03m# Create the metadata for the trained model\u001b[39;00m\n\u001b[1;32m    634\u001b[0m \u001b[38;5;28mself\u001b[39m\u001b[38;5;241m.\u001b[39mcreate_model_metadata()\n",
      "File \u001b[0;32m/usr/WS2/wilfong2/my_ampl/AMPL/atomsci/ddm/pipeline/model_wrapper.py:863\u001b[0m, in \u001b[0;36mNNModelWrapper.train\u001b[0;34m(self, pipeline, random_state, seed)\u001b[0m\n\u001b[1;32m    861\u001b[0m num_folds \u001b[38;5;241m=\u001b[39m \u001b[38;5;28mlen\u001b[39m(pipeline\u001b[38;5;241m.\u001b[39mdata\u001b[38;5;241m.\u001b[39mtrain_valid_dsets)\n\u001b[1;32m    862\u001b[0m \u001b[38;5;28;01mif\u001b[39;00m num_folds \u001b[38;5;241m>\u001b[39m \u001b[38;5;241m1\u001b[39m:\n\u001b[0;32m--> 863\u001b[0m     \u001b[38;5;28;43mself\u001b[39;49m\u001b[38;5;241;43m.\u001b[39;49m\u001b[43mtrain_kfold_cv\u001b[49m\u001b[43m(\u001b[49m\u001b[43mpipeline\u001b[49m\u001b[43m,\u001b[49m\u001b[43m \u001b[49m\u001b[43mrandom_state\u001b[49m\u001b[38;5;241;43m=\u001b[39;49m\u001b[38;5;28;43mself\u001b[39;49m\u001b[38;5;241;43m.\u001b[39;49m\u001b[43mrandom_state\u001b[49m\u001b[43m,\u001b[49m\u001b[43m \u001b[49m\u001b[43mseed\u001b[49m\u001b[38;5;241;43m=\u001b[39;49m\u001b[38;5;28;43mself\u001b[39;49m\u001b[38;5;241;43m.\u001b[39;49m\u001b[43mseed\u001b[49m\u001b[43m)\u001b[49m\n\u001b[1;32m    864\u001b[0m \u001b[38;5;28;01melse\u001b[39;00m:\n\u001b[1;32m    865\u001b[0m     \u001b[38;5;28mself\u001b[39m\u001b[38;5;241m.\u001b[39mtrain_with_early_stopping(pipeline, random_state\u001b[38;5;241m=\u001b[39m\u001b[38;5;28mself\u001b[39m\u001b[38;5;241m.\u001b[39mrandom_state, seed\u001b[38;5;241m=\u001b[39m\u001b[38;5;28mself\u001b[39m\u001b[38;5;241m.\u001b[39mseed)\n",
      "File \u001b[0;32m/usr/WS2/wilfong2/my_ampl/AMPL/atomsci/ddm/pipeline/model_wrapper.py:933\u001b[0m, in \u001b[0;36mNNModelWrapper.train_kfold_cv\u001b[0;34m(self, pipeline, random_state, seed)\u001b[0m\n\u001b[1;32m    930\u001b[0m train_pred \u001b[38;5;241m=\u001b[39m \u001b[38;5;28mself\u001b[39m\u001b[38;5;241m.\u001b[39mmodel\u001b[38;5;241m.\u001b[39mpredict(train_dset, [])\n\u001b[1;32m    931\u001b[0m test_pred \u001b[38;5;241m=\u001b[39m \u001b[38;5;28mself\u001b[39m\u001b[38;5;241m.\u001b[39mmodel\u001b[38;5;241m.\u001b[39mpredict(test_dset, [])\n\u001b[0;32m--> 933\u001b[0m train_perf \u001b[38;5;241m=\u001b[39m \u001b[43mtrain_perf_data\u001b[49m\u001b[38;5;241;43m.\u001b[39;49m\u001b[43maccumulate_preds\u001b[49m\u001b[43m(\u001b[49m\u001b[43mtrain_pred\u001b[49m\u001b[43m,\u001b[49m\u001b[43m \u001b[49m\u001b[43mtrain_dset\u001b[49m\u001b[38;5;241;43m.\u001b[39;49m\u001b[43mids\u001b[49m\u001b[43m,\u001b[49m\u001b[43m \u001b[49m\u001b[43mrandom_state\u001b[49m\u001b[38;5;241;43m=\u001b[39;49m\u001b[38;5;28;43mself\u001b[39;49m\u001b[38;5;241;43m.\u001b[39;49m\u001b[43mrandom_state\u001b[49m\u001b[43m,\u001b[49m\u001b[43m \u001b[49m\u001b[43mseed\u001b[49m\u001b[38;5;241;43m=\u001b[39;49m\u001b[38;5;28;43mself\u001b[39;49m\u001b[38;5;241;43m.\u001b[39;49m\u001b[43mseed\u001b[49m\u001b[43m)\u001b[49m\n\u001b[1;32m    934\u001b[0m test_perf \u001b[38;5;241m=\u001b[39m test_perf_data\u001b[38;5;241m.\u001b[39maccumulate_preds(test_pred, test_dset\u001b[38;5;241m.\u001b[39mids, random_state\u001b[38;5;241m=\u001b[39m\u001b[38;5;28mself\u001b[39m\u001b[38;5;241m.\u001b[39mrandom_state, seed\u001b[38;5;241m=\u001b[39m\u001b[38;5;28mself\u001b[39m\u001b[38;5;241m.\u001b[39mseed)\n\u001b[1;32m    936\u001b[0m valid_perf \u001b[38;5;241m=\u001b[39m em\u001b[38;5;241m.\u001b[39maccumulate(ei, subset\u001b[38;5;241m=\u001b[39m\u001b[38;5;124m'\u001b[39m\u001b[38;5;124mvalid\u001b[39m\u001b[38;5;124m'\u001b[39m, dset\u001b[38;5;241m=\u001b[39mvalid_dset, random_state\u001b[38;5;241m=\u001b[39m\u001b[38;5;28mself\u001b[39m\u001b[38;5;241m.\u001b[39mrandom_state, seed\u001b[38;5;241m=\u001b[39m\u001b[38;5;28mself\u001b[39m\u001b[38;5;241m.\u001b[39mseed)\n",
      "File \u001b[0;32m/usr/WS2/wilfong2/my_ampl/AMPL/atomsci/ddm/pipeline/perf_data.py:1263\u001b[0m, in \u001b[0;36mKFoldClassificationPerfData.accumulate_preds\u001b[0;34m(self, predicted_vals, ids, pred_stds, random_state, seed)\u001b[0m\n\u001b[1;32m   1260\u001b[0m class_probs \u001b[38;5;241m=\u001b[39m \u001b[38;5;28mself\u001b[39m\u001b[38;5;241m.\u001b[39m_reshape_preds(predicted_vals, random_state\u001b[38;5;241m=\u001b[39mrandom_state, seed\u001b[38;5;241m=\u001b[39mseed)\n\u001b[1;32m   1262\u001b[0m \u001b[38;5;28;01mfor\u001b[39;00m i, \u001b[38;5;28mid\u001b[39m \u001b[38;5;129;01min\u001b[39;00m \u001b[38;5;28menumerate\u001b[39m(ids):\n\u001b[0;32m-> 1263\u001b[0m     \u001b[38;5;28mself\u001b[39m\u001b[38;5;241m.\u001b[39mpred_vals[\u001b[38;5;28mid\u001b[39m] \u001b[38;5;241m=\u001b[39m np\u001b[38;5;241m.\u001b[39mconcatenate([\u001b[38;5;28;43mself\u001b[39;49m\u001b[38;5;241;43m.\u001b[39;49m\u001b[43mpred_vals\u001b[49m\u001b[43m[\u001b[49m\u001b[38;5;28;43mid\u001b[39;49m\u001b[43m]\u001b[49m, class_probs[i,:,:]\u001b[38;5;241m.\u001b[39mreshape((\u001b[38;5;241m1\u001b[39m,\u001b[38;5;28mself\u001b[39m\u001b[38;5;241m.\u001b[39mnum_tasks,\u001b[38;5;241m-\u001b[39m\u001b[38;5;241m1\u001b[39m))], axis\u001b[38;5;241m=\u001b[39m\u001b[38;5;241m0\u001b[39m)\n\u001b[1;32m   1266\u001b[0m \u001b[38;5;28mself\u001b[39m\u001b[38;5;241m.\u001b[39mfolds \u001b[38;5;241m+\u001b[39m\u001b[38;5;241m=\u001b[39m \u001b[38;5;241m1\u001b[39m\n\u001b[1;32m   1267\u001b[0m real_vals \u001b[38;5;241m=\u001b[39m \u001b[38;5;28mself\u001b[39m\u001b[38;5;241m.\u001b[39mget_real_values(ids, random_state\u001b[38;5;241m=\u001b[39mrandom_state, seed\u001b[38;5;241m=\u001b[39mseed)\n",
      "\u001b[0;31mKeyError\u001b[0m: 'synthetic_1405'"
     ]
    }
   ],
   "source": [
    "ampl_param = parse.wrapper(params)\n",
    "pl = mp.ModelPipeline(ampl_param)\n",
    "pl.train_model()"
   ]
  }
 ],
 "metadata": {
  "kernelspec": {
   "display_name": "atom-dev",
   "language": "python",
   "name": "atom-dev"
  },
  "language_info": {
   "codemirror_mode": {
    "name": "ipython",
    "version": 3
   },
   "file_extension": ".py",
   "mimetype": "text/x-python",
   "name": "python",
   "nbconvert_exporter": "python",
   "pygments_lexer": "ipython3",
   "version": "3.9.12"
  }
 },
 "nbformat": 4,
 "nbformat_minor": 5
}
