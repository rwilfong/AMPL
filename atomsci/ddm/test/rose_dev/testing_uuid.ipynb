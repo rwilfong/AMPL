{
 "cells": [
  {
   "cell_type": "code",
   "execution_count": 1,
   "id": "eefa2942-5a4a-41c1-9b87-fa9809301400",
   "metadata": {},
   "outputs": [],
   "source": [
    "import uuid"
   ]
  },
  {
   "cell_type": "code",
   "execution_count": 2,
   "id": "c6633cc0-3b0f-4f09-b212-63cb36495b36",
   "metadata": {},
   "outputs": [],
   "source": [
    "import random\n"
   ]
  },
  {
   "cell_type": "code",
   "execution_count": 3,
   "id": "129a66a7-fcfa-4ddf-8978-55fe38d48b4a",
   "metadata": {},
   "outputs": [],
   "source": [
    "random.seed(42)"
   ]
  }
 ],
 "metadata": {
  "kernelspec": {
   "display_name": "atom-dev",
   "language": "python",
   "name": "atom-dev"
  },
  "language_info": {
   "codemirror_mode": {
    "name": "ipython",
    "version": 3
   },
   "file_extension": ".py",
   "mimetype": "text/x-python",
   "name": "python",
   "nbconvert_exporter": "python",
   "pygments_lexer": "ipython3",
   "version": "3.9.19"
  }
 },
 "nbformat": 4,
 "nbformat_minor": 5
}
