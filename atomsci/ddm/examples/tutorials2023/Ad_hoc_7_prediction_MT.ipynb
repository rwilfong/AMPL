{
 "cells": [
  {
   "cell_type": "markdown",
   "id": "a8575edf-6501-419a-8a0e-f49ee391c458",
   "metadata": {},
   "source": [
    "# Making Predictions and Visualizing with Pre-Trained Multi-task Models \n",
    "\n",
    "Thoughts - could use the models created for SLC6A2,3,4.\n",
    "\n",
    "I need to figure out a starting ground for this. "
   ]
  },
  {
   "cell_type": "code",
   "execution_count": null,
   "id": "8ae587d7-c3cd-4efc-b397-26d02a80de16",
   "metadata": {},
   "outputs": [],
   "source": []
  }
 ],
 "metadata": {
  "kernelspec": {
   "display_name": "atomsci-env",
   "language": "python",
   "name": "atomsci-env"
  },
  "language_info": {
   "codemirror_mode": {
    "name": "ipython",
    "version": 3
   },
   "file_extension": ".py",
   "mimetype": "text/x-python",
   "name": "python",
   "nbconvert_exporter": "python",
   "pygments_lexer": "ipython3",
   "version": "3.9.19"
  }
 },
 "nbformat": 4,
 "nbformat_minor": 5
}
