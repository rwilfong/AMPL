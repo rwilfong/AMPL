{
 "cells": [
  {
   "cell_type": "markdown",
   "id": "d4454d2f-beee-4845-b99c-592eee47239f",
   "metadata": {},
   "source": [
    "# Exploring Molecular Descriptors\n",
    "\n",
    "Molecular descriptors describe the ways that your SMILES strings get represented."
   ]
  },
  {
   "cell_type": "code",
   "execution_count": null,
   "id": "c8a8d3e0-aac7-4857-954e-50f54096aee9",
   "metadata": {},
   "outputs": [],
   "source": []
  }
 ],
 "metadata": {
  "kernelspec": {
   "display_name": "atomsci-env",
   "language": "python",
   "name": "atomsci-env"
  },
  "language_info": {
   "codemirror_mode": {
    "name": "ipython",
    "version": 3
   },
   "file_extension": ".py",
   "mimetype": "text/x-python",
   "name": "python",
   "nbconvert_exporter": "python",
   "pygments_lexer": "ipython3",
   "version": "3.9.19"
  }
 },
 "nbformat": 4,
 "nbformat_minor": 5
}
