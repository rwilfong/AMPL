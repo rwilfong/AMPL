{
 "cells": [
  {
   "cell_type": "markdown",
   "id": "83f1578d-2596-41c2-88a1-e31b1ecaae6e",
   "metadata": {},
   "source": [
    "# Exploring Hyperparameter Search Types\n",
    "\n",
    "Utilizing different hyperparameter search types can change the way a model is validated and optimally, what it learns! \n",
    "\n",
    "\n",
    "AMPL currently supports grid, random, geometric, hyperopt, and user-specified."
   ]
  },
  {
   "cell_type": "code",
   "execution_count": null,
   "id": "c6c387f6-d4e5-49d5-a39a-5e4d02b0eced",
   "metadata": {},
   "outputs": [],
   "source": []
  }
 ],
 "metadata": {
  "kernelspec": {
   "display_name": "atom-dev",
   "language": "python",
   "name": "atom-dev"
  },
  "language_info": {
   "codemirror_mode": {
    "name": "ipython",
    "version": 3
   },
   "file_extension": ".py",
   "mimetype": "text/x-python",
   "name": "python",
   "nbconvert_exporter": "python",
   "pygments_lexer": "ipython3",
   "version": "3.9.19"
  }
 },
 "nbformat": 4,
 "nbformat_minor": 5
}
